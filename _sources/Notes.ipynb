{
 "cells": [
  {
   "cell_type": "markdown",
   "id": "39112b32-02a1-423a-a5fb-68d04d4d4948",
   "metadata": {},
   "source": [
    "# Notes\n",
    "\n",
    "## 09/30/2024\n",
    "\n",
    "Spoke with Francisco and came up with a couple of possibilities to move ahead with the fusion/alternatively splice proteins project:\n",
    "1. Talk to Dr. Timothy Shaw to learn about the pipeline and possibly obtain his dataset to make sure I work through it correctly, then use the pipeline on our own bam/fastq files\n",
    "2. Work together with Francisco who is looking at whole genome sequencing (WGS) data to validate his methylation findings- many of these were fusion proteins and I could get started on this right away while waiting for bam/fastq files\n",
    "3. Do our own RNA-seq on samples we already have to obtain the fastq files ourselves. Would be ideal if these samples also already had DNA sequencing\n",
    "\n",
    "Fastq files are ideal for finding these protein isoforms, however it seems like this files type is not available online, only bam. Bam could possibly be used since it gives you multiple chromosomal posibilities for fusion proteins. With fastq files we can work from the very beginning and reduce bias from platforms that only align the sequences with known isoforms."
   ]
  }
 ],
 "metadata": {
  "kernelspec": {
   "display_name": "Python 3 (ipykernel)",
   "language": "python",
   "name": "python3"
  },
  "language_info": {
   "codemirror_mode": {
    "name": "ipython",
    "version": 3
   },
   "file_extension": ".py",
   "mimetype": "text/x-python",
   "name": "python",
   "nbconvert_exporter": "python",
   "pygments_lexer": "ipython3",
   "version": "3.10.15"
  }
 },
 "nbformat": 4,
 "nbformat_minor": 5
}
