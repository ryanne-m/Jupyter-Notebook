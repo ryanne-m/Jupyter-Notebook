{
 "cells": [
  {
   "cell_type": "markdown",
   "id": "c8bff1fd-c1ae-4e6d-8a3d-5f51ca1205f3",
   "metadata": {},
   "source": [
    "# Here's my title\n",
    "\n",
    "This is some sample text.\n",
    "\n",
    "## Here's my first section\n",
    "\n",
    "Here is a [reference to the intro](intro.md)."
   ]
  }
 ],
 "metadata": {
  "kernelspec": {
   "display_name": "Python 3 (ipykernel)",
   "language": "python",
   "name": "python3"
  },
  "language_info": {
   "codemirror_mode": {
    "name": "ipython",
    "version": 3
   },
   "file_extension": ".py",
   "mimetype": "text/x-python",
   "name": "python",
   "nbconvert_exporter": "python",
   "pygments_lexer": "ipython3",
   "version": "3.10.15"
  }
 },
 "nbformat": 4,
 "nbformat_minor": 5
}